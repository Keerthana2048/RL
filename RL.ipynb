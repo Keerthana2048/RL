{
  "nbformat": 4,
  "nbformat_minor": 0,
  "metadata": {
    "colab": {
      "provenance": [],
      "authorship_tag": "ABX9TyPLxzJe4Xji7ngHAHO/hYlk",
      "include_colab_link": true
    },
    "kernelspec": {
      "name": "python3",
      "display_name": "Python 3"
    },
    "language_info": {
      "name": "python"
    }
  },
  "cells": [
    {
      "cell_type": "markdown",
      "metadata": {
        "id": "view-in-github",
        "colab_type": "text"
      },
      "source": [
        "<a href=\"https://colab.research.google.com/github/Keerthana2048/RL/blob/main/RL.ipynb\" target=\"_parent\"><img src=\"https://colab.research.google.com/assets/colab-badge.svg\" alt=\"Open In Colab\"/></a>"
      ]
    },
    {
      "cell_type": "code",
      "execution_count": null,
      "metadata": {
        "colab": {
          "base_uri": "https://localhost:8080/",
          "height": 771
        },
        "id": "P0q1r9cMAxg0",
        "outputId": "3d8c1164-ce08-4e71-859a-58236ef8ebb5"
      },
      "outputs": [
        {
          "output_type": "stream",
          "name": "stdout",
          "text": [
            "First 5 rows of the dataset:\n",
            "   sepal length (cm)  sepal width (cm)  petal length (cm)  petal width (cm)\n",
            "0                5.1               3.5                1.4               0.2\n",
            "1                4.9               3.0                1.4               0.2\n",
            "2                4.7               3.2                1.3               0.2\n",
            "3                4.6               3.1                1.5               0.2\n",
            "4                5.0               3.6                1.4               0.2\n",
            "\n",
            "Target classes: ['setosa' 'versicolor' 'virginica']\n",
            "\n",
            "Classification Report:\n",
            "              precision    recall  f1-score   support\n",
            "\n",
            "      setosa       1.00      1.00      1.00        10\n",
            "  versicolor       1.00      1.00      1.00         9\n",
            "   virginica       1.00      1.00      1.00        11\n",
            "\n",
            "    accuracy                           1.00        30\n",
            "   macro avg       1.00      1.00      1.00        30\n",
            "weighted avg       1.00      1.00      1.00        30\n",
            "\n"
          ]
        },
        {
          "output_type": "display_data",
          "data": {
            "text/plain": [
              "<Figure size 600x400 with 2 Axes>"
            ],
            "image/png": "[encoded data removed]"
          },
          "metadata": {}
        }
      ],
      "source": [
        "import pandas as pd\n",
        "import matplotlib.pyplot as plt\n",
        "import numpy as np\n",
        "from sklearn.datasets import load_iris\n",
        "from sklearn.model_selection import train_test_split\n",
        "from sklearn.ensemble import RandomForestClassifier\n",
        "from sklearn.metrics import classification_report, confusion_matrix\n",
        "\n",
        "# Load dataset\n",
        "iris = load_iris()\n",
        "X = pd.DataFrame(iris.data, columns=iris.feature_names)\n",
        "y = pd.Series(iris.target)\n",
        "\n",
        "print(\"First 5 rows of the dataset:\")\n",
        "print(X.head())\n",
        "print(\"\\nTarget classes:\", iris.target_names)\n",
        "\n",
        "# Split dataset\n",
        "X_train, X_test, y_train, y_test = train_test_split(X, y, test_size=0.2, random_state=42)\n",
        "\n",
        "# Train model\n",
        "model = RandomForestClassifier(n_estimators=100, random_state=42)\n",
        "model.fit(X_train, y_train)\n",
        "\n",
        "# Predictions\n",
        "y_pred = model.predict(X_test)\n",
        "\n",
        "# Classification report\n",
        "print(\"\\nClassification Report:\")\n",
        "print(classification_report(y_test, y_pred, target_names=iris.target_names))\n",
        "\n",
        "# Confusion matrix\n",
        "cm = confusion_matrix(y_test, y_pred)\n",
        "plt.figure(figsize=(6, 4))\n",
        "plt.imshow(cm, interpolation='nearest', cmap=plt.cm.Blues)\n",
        "plt.title(\"Confusion Matrix\")\n",
        "plt.colorbar()\n",
        "\n",
        "tick_marks = np.arange(len(iris.target_names))\n",
        "plt.xticks(tick_marks, iris.target_names, rotation=45)\n",
        "plt.yticks(tick_marks, iris.target_names)\n",
        "\n",
        "plt.xlabel('Predicted')\n",
        "plt.ylabel('True')\n",
        "plt.tight_layout()\n",
        "plt.show()\n"
      ]
    },
    {
      "cell_type": "code",
      "source": [
        "import numpy as np\n",
        "states = ['A','B','C']\n",
        "actions =['left','right']\n",
        "\n",
        "for step in range(5):\n",
        "  current_state = np.random.choice(states)\n",
        "  action = np.random.choice(actions)\n",
        "  print(f\"step{step}:Agent is in {current_state},takes action {action}\")"
      ],
      "metadata": {
        "colab": {
          "base_uri": "https://localhost:8080/"
        },
        "id": "ft07OX-dBlUg",
        "outputId": "2bc6f952-a609-4e68-9e27-96334727b7f9"
      },
      "execution_count": null,
      "outputs": [
        {
          "output_type": "stream",
          "name": "stdout",
          "text": [
            "step0:Agent is in C,takes action right\n",
            "step1:Agent is in B,takes action left\n",
            "step2:Agent is in B,takes action right\n",
            "step3:Agent is in B,takes action right\n",
            "step4:Agent is in A,takes action right\n"
          ]
        }
      ]
    },
    {
      "cell_type": "code",
      "source": [
        "position = 0\n",
        "goal = 4\n",
        "steps = 0\n",
        "while position != goal:\n",
        "  action = np.random.choice(['left','right'])\n",
        "  print(f\"Action is {action} \")\n",
        "  if action  ==\"right\":\n",
        "    position += 1\n",
        "  elif action =='left'and position > 0:\n",
        "      position -= 1\n",
        "      print(f\"position is {position}\")\n",
        "      steps += 1\n",
        "      print(f\"reached goal in {steps}steps!\")"
      ],
      "metadata": {
        "colab": {
          "base_uri": "https://localhost:8080/"
        },
        "id": "MYAlLMTCBqNO",
        "outputId": "ed9917e2-8670-4ed4-b0f4-13cbc52ef476"
      },
      "execution_count": null,
      "outputs": [
        {
          "output_type": "stream",
          "name": "stdout",
          "text": [
            "Action is left \n",
            "Action is left \n",
            "Action is left \n",
            "Action is right \n",
            "Action is left \n",
            "position is 0\n",
            "reached goal in 1steps!\n",
            "Action is left \n",
            "Action is right \n",
            "Action is left \n",
            "position is 0\n",
            "reached goal in 2steps!\n",
            "Action is right \n",
            "Action is left \n",
            "position is 0\n",
            "reached goal in 3steps!\n",
            "Action is left \n",
            "Action is right \n",
            "Action is left \n",
            "position is 0\n",
            "reached goal in 4steps!\n",
            "Action is right \n",
            "Action is right \n",
            "Action is left \n",
            "position is 1\n",
            "reached goal in 5steps!\n",
            "Action is right \n",
            "Action is left \n",
            "position is 1\n",
            "reached goal in 6steps!\n",
            "Action is right \n",
            "Action is right \n",
            "Action is left \n",
            "position is 2\n",
            "reached goal in 7steps!\n",
            "Action is right \n",
            "Action is right \n"
          ]
        }
      ]
    },
    {
      "cell_type": "code",
      "source": [
        "import numpy as np\n",
        "\n",
        "position = [0, 0]\n",
        "goal = [2, 2]\n",
        "moves = ['up', 'down', 'left', 'right']\n",
        "grid_size = 3\n",
        "steps = 0\n",
        "\n",
        "while position != goal:\n",
        "    action = np.random.choice(moves)\n",
        "    print(f\"Action: {action}\")\n",
        "\n",
        "    if action == 'up' and position[0] > 0:\n",
        "        position[0] -= 1\n",
        "    elif action == 'down' and position[0] < grid_size - 1:\n",
        "        position[0] += 1\n",
        "    elif action == 'left' and position[1] > 0:\n",
        "        position[1] -= 1\n",
        "    elif action == 'right' and position[1] < grid_size - 1:\n",
        "        position[1] += 1\n",
        "\n",
        "    steps += 1\n",
        "    print(f\"Position: {position}\")\n",
        "\n",
        "print(f\"Reached the goal {goal} in {steps} steps.\")"
      ],
      "metadata": {
        "colab": {
          "base_uri": "https://localhost:8080/"
        },
        "id": "9UUiI_LyBsdn",
        "outputId": "2f1bd089-ec44-47a7-a3a6-0b1f192c1629"
      },
      "execution_count": null,
      "outputs": [
        {
          "output_type": "stream",
          "name": "stdout",
          "text": [
            "Action: right\n",
            "Position: [0, 1]\n",
            "Action: left\n",
            "Position: [0, 0]\n",
            "Action: right\n",
            "Position: [0, 1]\n",
            "Action: up\n",
            "Position: [0, 1]\n",
            "Action: right\n",
            "Position: [0, 2]\n",
            "Action: up\n",
            "Position: [0, 2]\n",
            "Action: left\n",
            "Position: [0, 1]\n",
            "Action: down\n",
            "Position: [1, 1]\n",
            "Action: left\n",
            "Position: [1, 0]\n",
            "Action: up\n",
            "Position: [0, 0]\n",
            "Action: right\n",
            "Position: [0, 1]\n",
            "Action: down\n",
            "Position: [1, 1]\n",
            "Action: up\n",
            "Position: [0, 1]\n",
            "Action: right\n",
            "Position: [0, 2]\n",
            "Action: right\n",
            "Position: [0, 2]\n",
            "Action: down\n",
            "Position: [1, 2]\n",
            "Action: right\n",
            "Position: [1, 2]\n",
            "Action: left\n",
            "Position: [1, 1]\n",
            "Action: left\n",
            "Position: [1, 0]\n",
            "Action: up\n",
            "Position: [0, 0]\n",
            "Action: right\n",
            "Position: [0, 1]\n",
            "Action: right\n",
            "Position: [0, 2]\n",
            "Action: up\n",
            "Position: [0, 2]\n",
            "Action: down\n",
            "Position: [1, 2]\n",
            "Action: right\n",
            "Position: [1, 2]\n",
            "Action: left\n",
            "Position: [1, 1]\n",
            "Action: right\n",
            "Position: [1, 2]\n",
            "Action: up\n",
            "Position: [0, 2]\n",
            "Action: right\n",
            "Position: [0, 2]\n",
            "Action: down\n",
            "Position: [1, 2]\n",
            "Action: right\n",
            "Position: [1, 2]\n",
            "Action: right\n",
            "Position: [1, 2]\n",
            "Action: right\n",
            "Position: [1, 2]\n",
            "Action: down\n",
            "Position: [2, 2]\n",
            "Reached the goal [2, 2] in 34 steps.\n"
          ]
        }
      ]
    },
    {
      "cell_type": "code",
      "source": [],
      "metadata": {
        "id": "xCB_bOjRBvlK"
      },
      "execution_count": null,
      "outputs": []
    },
    {
      "cell_type": "code",
      "source": [],
      "metadata": {
        "id": "xk6HHyuyB9IZ"
      },
      "execution_count": null,
      "outputs": []
    }
  ]
}